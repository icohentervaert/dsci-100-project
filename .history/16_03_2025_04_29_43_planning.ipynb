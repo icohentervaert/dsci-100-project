{
 "cells": [
  {
   "cell_type": "code",
   "execution_count": null,
   "id": "dd2f58f7-f890-485b-b323-060023853277",
   "metadata": {},
   "outputs": [],
   "source": [
    "### Run this cell before continuing. \n",
    "library(tidyverse)\n",
    "library(repr)\n",
    "library(tidymodels)"
   ]
  },
  {
   "cell_type": "markdown",
   "id": "9c1a75b6-d523-4fdf-a60c-01abc78848ea",
   "metadata": {},
   "source": [
    "# (1) Data Description:\n",
    "\n",
    "<!-- Provide a full descriptive summary of the dataset, including information such as the number of observations, summary statistics, number of variables, name and type of variables, what the variables mean, any issues you see in the data, any other potential issues related to things you cannot directly see, how the data were collected, etc. Make sure to use bullet point lists or tables to summarize the variables in an easy-to-understand format.\n",
    "\n",
    "Note that the selected dataset(s) will probably contain more variables than you need. In fact, exploring how the different variables in the dataset affect your model may be a crucial part of the project. You need to summarize the full data regardless of which variables you may choose to use later on. !-->\n",
    "The player dataset shows 196 players with 7 columns:\n",
    "- `experience <fct>` a categorical representation of the user's experience\n",
    "- `subscribe <lgl>` a boolean value of whether the user is subscribed to the game news letter\n",
    "- `hashedEmail <chr>` a string of the hashed user's email, used primarly to identify a user\n",
    "- `played_hours <dbl>` number representing the total hours a user has played\n",
    "- `name <chr>` string of the user's in-game name\n",
    "- `gender <fct>` a categorical representation of the user's reported gender\n",
    "- `Age <dbl>` representing the user's reported age\n",
    "\n",
    "Statistics: \n",
    "- `experience <fct>`, which can be one of:\n",
    "    - `Pro` - 14 count\n",
    "    - `Veteran` - 48 count\n",
    "    - `Amateur` - 63 count \n",
    "    - `Regular` - 36 count\n",
    "    - `Beginner` - 35 count\n",
    "- `subscribe <lgl>`:\n",
    "    - `TRUE` - 144 count\n",
    "    - `FALSE` - 52 count\n",
    "- `played_hours <dbl>`\n",
    "    - Maximum: `233.100 hours`\n",
    "    - Mean: `5.846 hours`\n",
    "    - Median: `0.100`\n",
    "    - Minimum: `0 hours`\n",
    "- `gender <fct>`, which can be one of:\n",
    "    - `Male` - 124 count\n",
    "    - `Female` - 36 count\n",
    "    - `Non-binary` - 15 count\n",
    "    - `Prefer not to say` - 11 count\n",
    "    - `Agender` - 2 count\n",
    "    - `Two-spirited` - 6 count\n",
    "    - `Other` - 1 count\n",
    "- `Age <dbl>`\n",
    "    - Maximum: `50 years old`\n",
    "    - Mean: `20.52 years old`\n",
    "    - Median: `19 years old`\n",
    "    - Minimum: `8 years old`\n",
    "    - `NA`s - 2 count\n",
    "\n",
    "Potential issues:\n",
    "- When reading, it will read `experience` and `gender` as character type, when it should be categorical.\n",
    "       - This can be fixed by running `as_factor` on those columns.\n",
    "- Age column contains 2 `NA`s\n",
    "- Dataset primarly contains `Amateur` players, and `Male` players.\n",
    "- Doesn't seem to feature players above 50, and centered around 19 years old.\n",
    "\n",
    "The session dataset contains 1535 sessions total with 4 columns:\n",
    "- `hashedEmail <chr>` a string of the hashed user's email, used primarly to identify a user\n",
    "- `start_time <dttm>` the user's start time of the session\n",
    "- `end_time <dttm>` the user's start time of the session\n",
    "- `original_start_time <dbl>` the user's start time of the session in UNIX format\n",
    "- `original_end_time <dbl>` the user's start time of the session in UNIX format\n",
    "\n",
    "Potential issues:\n",
    "- The timezone of start_time and end_time isn't really known, I presumed it to be UTC.\n",
    "- When reading, `start_time` and  `end_time` is read as `<chr>`, when it should be a date time object\n",
    "      - it should be fixed with as_datetime with tz set to `UTC` and format as `%d/%m/%Y %H:%M`\n",
    "- UNIX version of time doesn't seem to be all that accurate(doesn't? support hours, minutes), whereas `start_time` and  `end_time` seem to provide the same data with more accuracy.\n"
   ]
  },
  {
   "cell_type": "markdown",
   "id": "679aa2ad-0ae9-4c69-a2e9-22f405940655",
   "metadata": {},
   "source": [
    "# (2) Questions:\n",
    "Broad question: We would like to know which \"kinds\" of players are most likely to contribute a large amount of data so that we can target those players in our recruiting efforts. \n",
    "\n",
    "Specific question: Can Age, gender, subscription status to news letter, and experience predict a player’s mean session time? \n",
    "\n",
    "If we know the factors contributing to a player's average session time, we can find what characteristics may make a player most likely to play for long periods. This will be the target audience and I argue would be more important than just total hours played, as it relates what audience is more immersed instead of just casual play. We would need to compute summary statistics of a user's session length on session dataset, and then join that into the players dataset."
   ]
  },
  {
   "cell_type": "markdown",
   "id": "ceea8cfd-1fcc-4c1d-afb4-721be3b897ad",
   "metadata": {},
   "source": [
    "# (3) Exploratory Data Analysis and Visualization"
   ]
  },
  {
   "cell_type": "code",
   "execution_count": null,
   "id": "efc3e1b8-6bd9-4598-b1fb-4b6ad2147dbc",
   "metadata": {},
   "outputs": [],
   "source": [
    "players_url <- \"https://raw.githubusercontent.com/icohentervaert/dsci-100-project/fdebcd1e1f1ab6bfd3efb9056233a8fe18ed631f/data/players.csv\"\n",
    "session_url <- \"https://raw.githubusercontent.com/icohentervaert/dsci-100-project/fdebcd1e1f1ab6bfd3efb9056233a8fe18ed631f/data/sessions.csv\"\n",
    "\n",
    "players_data <- read_csv(players_url)\n",
    "\n",
    "# ISSUE: correct reading of experience to use <fct> instead of <chr>\n",
    "# ISSUE: correct gender to be categorical instead of <chr>\n",
    "# ISSUE: remove NAs from data\n",
    "players_data <- players_data |>\n",
    "                mutate(experience = as_factor(experience)) |>\n",
    "                mutate(gender = as_factor(gender)) |>\n",
    "                filter(!is.na(Age))\n",
    "\n",
    "\n",
    "session_data <- read_csv(session_url)\n",
    "\n",
    "# ISSUE: correct reading of start_time & end_time to usedate instead of <chr>\n",
    "session_data <- session_data |>\n",
    "                mutate(start_time = as_datetime(start_time, tz = \"UTC\", format = \"%d/%m/%Y %H:%M\")) |>\n",
    "                mutate(end_time = as_datetime(end_time, tz = \"UTC\", format = \"%d/%m/%Y %H:%M\"))"
   ]
  },
  {
   "cell_type": "code",
   "execution_count": null,
   "id": "01e4b169-cd1b-4f0b-a083-e42f20f75852",
   "metadata": {},
   "outputs": [],
   "source": [
    "mean_values_player <- players_data |>\n",
    "                      select( played_hours, Age) |>\n",
    "                      map_df(mean)\n",
    "'Mean values for each quantitative variable in the players.csv data set:'\n",
    "mean_values_player"
   ]
  },
  {
   "cell_type": "code",
   "execution_count": null,
   "id": "391494ef-273f-4ac5-983e-29ebb5624284",
   "metadata": {},
   "outputs": [],
   "source": [
    "# wrangle session_data to make players_data include average session length\n",
    "session_with_length <- session_data |>\n",
    "                  select(hashedEmail, start_time, end_time) |>\n",
    "                  mutate(session_length_hour = as.numeric(end_time - start_time, \"hours\"))\n",
    "average_session_length <- session_with_length |>\n",
    "                          group_by(hashedEmail) |>\n",
    "                          summarize(mean_session_length = mean(session_length_hour))\n",
    "\n",
    "players_data_with_session_length <- inner_join(average_session_length, players_data, by = join_by(hashedEmail))\n",
    "head(players_data_with_session_length, n=3)"
   ]
  },
  {
   "cell_type": "code",
   "execution_count": null,
   "id": "62a3ffac-0252-4164-b174-61e0ac7ff2fa",
   "metadata": {},
   "outputs": [],
   "source": [
    "options(repr.plot.height = 6, repr.plot.width = 10)\n",
    "\n",
    "gender_distribution = players_data_with_session_length |>\n",
    "              ggplot(aes(y = fct_infreq(gender))) +\n",
    "              geom_bar(stat=\"count\") + \n",
    "              labs(title = \"Distribution of Gender Identity Among Users\", y = \"Reported Gender\", x = \"Count\") +\n",
    "            theme(text = element_text(size = 20))\n",
    "gender_distribution              "
   ]
  },
  {
   "cell_type": "markdown",
   "id": "3db80f76-7572-4d8d-8e32-93c62dc939da",
   "metadata": {},
   "source": [
    "The goal with this visualization is to grasp the bias within the data towards males, as to further inform regarding possible complexities when dealing with this dataset. More research is needed to identify if this is a limitation of the dataset, and if so, whether to possibly scale the gender variable if it fits with regards to our question."
   ]
  },
  {
   "cell_type": "code",
   "execution_count": null,
   "id": "84753143-1380-400a-b460-59f1cde92a8b",
   "metadata": {},
   "outputs": [],
   "source": [
    "options(repr.plot.height = 6, repr.plot.width = 10)\n",
    "\n",
    "session_vs_play_time = players_data_with_session_length |>\n",
    "              mutate(mean_session_length = mean_session_length * 60, played_hours = played_hours ) |>\n",
    "              ggplot(aes(x = played_hours, y = mean_session_length)) +\n",
    "              geom_point() + \n",
    "              labs(title = \"Player Average Session Length vs. Total Playtime\", x = \"Total Playtime (hr)\", y = \"Average Session Length (hr)\") +\n",
    "            theme(text = element_text(size = 20))\n",
    "session_vs_play_time    "
   ]
  },
  {
   "cell_type": "code",
   "execution_count": null,
   "id": "ec7b774c-e75c-4868-b63b-6498b19b49ee",
   "metadata": {},
   "outputs": [],
   "source": []
  },
  {
   "cell_type": "code",
   "execution_count": null,
   "id": "89f16db4-ebfa-4bd6-a699-0424306ab98d",
   "metadata": {},
   "outputs": [],
   "source": []
  }
 ],
 "metadata": {
  "kernelspec": {
   "display_name": "R",
   "language": "R",
   "name": "ir"
  },
  "language_info": {
   "codemirror_mode": "r",
   "file_extension": ".r",
   "mimetype": "text/x-r-source",
   "name": "R",
   "pygments_lexer": "r",
   "version": "4.3.3"
  }
 },
 "nbformat": 4,
 "nbformat_minor": 5
}

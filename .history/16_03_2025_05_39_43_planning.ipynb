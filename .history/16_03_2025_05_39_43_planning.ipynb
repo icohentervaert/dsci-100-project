{
 "cells": [
  {
   "cell_type": "code",
   "execution_count": null,
   "id": "dd2f58f7-f890-485b-b323-060023853277",
   "metadata": {},
   "outputs": [],
   "source": [
    "### Run this cell before continuing. \n",
    "library(tidyverse)\n",
    "library(repr)\n",
    "library(tidymodels)"
   ]
  },
  {
   "cell_type": "markdown",
   "id": "9c1a75b6-d523-4fdf-a60c-01abc78848ea",
   "metadata": {},
   "source": [
    "# (1) Data Description:\n",
    "\n",
    "<!-- Provide a full descriptive summary of the dataset, including information such as the number of observations, summary statistics, number of variables, name and type of variables, what the variables mean, any issues you see in the data, any other potential issues related to things you cannot directly see, how the data were collected, etc. Make sure to use bullet point lists or tables to summarize the variables in an easy-to-understand format.\n",
    "\n",
    "Note that the selected dataset(s) will probably contain more variables than you need. In fact, exploring how the different variables in the dataset affect your model may be a crucial part of the project. You need to summarize the full data regardless of which variables you may choose to use later on. !-->\n",
    "The player dataset shows 196 players with 7 columns:\n",
    "- `experience <fct>` a categorical representation of the user's experience\n",
    "- `subscribe <lgl>` a boolean value of whether subscribed to news letter\n",
    "- `hashedEmail <chr>` hash of user email primarly to identify a user\n",
    "- `played_hours <dbl>` total hours a user has played\n",
    "- `name <chr>`  user's in-game name\n",
    "- `gender <fct>` the user's reported gender\n",
    "- `Age <dbl>` the user's reported age\n",
    "\n",
    "Statistics (count): \n",
    "- `experience <fct>`,:\n",
    "    - `Pro` - 14 \n",
    "    - `Veteran` - 48 \n",
    "    - `Amateur` - 63  \n",
    "    - `Regular` - 36 \n",
    "    - `Beginner` - 35 \n",
    "- `subscribe <lgl>`:\n",
    "    - `TRUE` - 144 \n",
    "    - `FALSE` - 52 \n",
    "- `played_hours <dbl>`\n",
    "    - Maximum: `233.100 hours`\n",
    "    - Mean: `5.846 hours`\n",
    "    - Median: `0.100`\n",
    "    - Minimum: `0 hours`\n",
    "- `gender <fct>`:\n",
    "    - `Male` - 124 \n",
    "    - `Female` - 36 \n",
    "    - `Non-binary` - 15 \n",
    "    - `Prefer not to say` - 11 \n",
    "    - `Agender` - 2 \n",
    "    - `Two-spirited` - 6 \n",
    "    - `Other` - 1 count\n",
    "- `Age <dbl>`\n",
    "    - Maximum: `50 years old`\n",
    "    - Mean: `20.52 years old`\n",
    "    - Median: `19 years old`\n",
    "    - Minimum: `8 years old`\n",
    "    - `NA`s - 2 \n",
    "\n",
    "Potential issues:\n",
    "- When reading, it will read `experience` and `gender` as character type, when it should be categorical.\n",
    "- Age column contains 2 `NA`s\n",
    "- Dataset primarly contains `Amateur` players, and `Male` players.\n",
    "- It doesn't seem to feature players above 50, and centred around 19 years old.\n",
    "\n",
    "The session dataset contains 1535 sessions total with 4 columns:\n",
    "- `hashedEmail <chr>` a string of the hashed user's email, used primarly to identify a user\n",
    "- `start_time <dttm>` the user's start time of the session\n",
    "- `end_time <dttm>` the user's start time of the session\n",
    "- `original_start_time <dbl>` the user's start time of the session in UNIX format\n",
    "- `original_end_time <dbl>` the user's start time of the session in UNIX format\n",
    "\n",
    "Potential issues:\n",
    "- The timezone of start_time and end_time isn't really known, I presumed it to be UTC.\n",
    "- When reading, `start_time` and  `end_time` is read as `<chr>`, when it should be a date time object\n",
    "- UNIX version of time doesn't seem to be all that accurate(doesn't? support hours, minutes), whereas `start_time` and  `end_time` seem to provide the same data with more accuracy.\n"
   ]
  },
  {
   "cell_type": "markdown",
   "id": "679aa2ad-0ae9-4c69-a2e9-22f405940655",
   "metadata": {},
   "source": [
    "# (2) Questions:\n",
    "Broad question: We would like to know which \"kinds\" of players are most likely to contribute a large amount of data so that we can target those players in our recruiting efforts. \n",
    "\n",
    "Specific question: Can Age, gender, subscription status to newsletter, and experience predict a player’s mean session time? \n",
    "\n",
    "Identifying factors influencing average session time allows us to determine which player characteristics correlate with deeper engagement. This reveals a target audience more valuable than those who simply accumulate total playtime. This requires calculating session length summaries and merging them with player data."
   ]
  },
  {
   "cell_type": "markdown",
   "id": "ceea8cfd-1fcc-4c1d-afb4-721be3b897ad",
   "metadata": {},
   "source": [
    "# (3) Exploratory Data Analysis and Visualization"
   ]
  },
  {
   "cell_type": "code",
   "execution_count": null,
   "id": "efc3e1b8-6bd9-4598-b1fb-4b6ad2147dbc",
   "metadata": {},
   "outputs": [],
   "source": [
    "players_url <- \"https://raw.githubusercontent.com/icohentervaert/dsci-100-project/fdebcd1e1f1ab6bfd3efb9056233a8fe18ed631f/data/players.csv\"\n",
    "session_url <- \"https://raw.githubusercontent.com/icohentervaert/dsci-100-project/fdebcd1e1f1ab6bfd3efb9056233a8fe18ed631f/data/sessions.csv\"\n",
    "\n",
    "players_data <- read_csv(players_url)\n",
    "\n",
    "# ISSUE: correct reading of experience to use <fct> instead of <chr>\n",
    "# ISSUE: correct gender to be categorical instead of <chr>\n",
    "# ISSUE: remove NAs from data\n",
    "players_data <- players_data |>\n",
    "                mutate(experience = as_factor(experience)) |>\n",
    "                mutate(gender = as_factor(gender)) |>\n",
    "                filter(!is.na(Age))\n",
    "\n",
    "\n",
    "session_data <- read_csv(session_url)\n",
    "\n",
    "# ISSUE: correct reading of start_time & end_time to usedate instead of <chr>\n",
    "session_data <- session_data |>\n",
    "                mutate(start_time = as_datetime(start_time, tz = \"UTC\", format = \"%d/%m/%Y %H:%M\")) |>\n",
    "                mutate(end_time = as_datetime(end_time, tz = \"UTC\", format = \"%d/%m/%Y %H:%M\"))"
   ]
  },
  {
   "cell_type": "code",
   "execution_count": null,
   "id": "01e4b169-cd1b-4f0b-a083-e42f20f75852",
   "metadata": {},
   "outputs": [],
   "source": [
    "mean_values_player <- players_data |>\n",
    "                      select( played_hours, Age) |>\n",
    "                      map_df(mean)\n",
    "'Mean values for each quantitative variable in the players.csv data set:'\n",
    "mean_values_player"
   ]
  },
  {
   "cell_type": "code",
   "execution_count": null,
   "id": "391494ef-273f-4ac5-983e-29ebb5624284",
   "metadata": {},
   "outputs": [],
   "source": [
    "# wrangle session_data to make players_data include average session length\n",
    "session_with_length <- session_data |>\n",
    "                  select(hashedEmail, start_time, end_time) |>\n",
    "                  mutate(session_length_hour = as.numeric(end_time - start_time, \"hours\"))\n",
    "average_session_length <- session_with_length |>\n",
    "                          group_by(hashedEmail) |>\n",
    "                          summarize(mean_session_length = mean(session_length_hour))\n",
    "\n",
    "players_data_with_session_length <- inner_join(average_session_length, players_data, by = join_by(hashedEmail))\n",
    "head(players_data_with_session_length, n=3)"
   ]
  },
  {
   "cell_type": "code",
   "execution_count": null,
   "id": "62a3ffac-0252-4164-b174-61e0ac7ff2fa",
   "metadata": {},
   "outputs": [],
   "source": [
    "options(repr.plot.height = 6, repr.plot.width = 10)\n",
    "\n",
    "gender_distribution = players_data_with_session_length |>\n",
    "              ggplot(aes(y = fct_infreq(gender))) +\n",
    "              geom_bar(stat=\"count\") + \n",
    "              labs(title = \"Distribution of Gender Identity Among Users\", y = \"Reported Gender\", x = \"Count\") +\n",
    "            theme(text = element_text(size = 20))\n",
    "gender_distribution              "
   ]
  },
  {
   "cell_type": "markdown",
   "id": "3db80f76-7572-4d8d-8e32-93c62dc939da",
   "metadata": {},
   "source": [
    "The goal of this visualization is to grasp the bias within the data towards males and further inform regarding possible complexities when dealing with this dataset. More research is needed to identify if this is a limitation of the dataset and, if so, whether to scale the gender variable if it fits with regard to our question."
   ]
  },
  {
   "cell_type": "code",
   "execution_count": null,
   "id": "84753143-1380-400a-b460-59f1cde92a8b",
   "metadata": {},
   "outputs": [],
   "source": [
    "options(repr.plot.height = 6, repr.plot.width = 10)\n",
    "\n",
    "session_vs_play_time = players_data_with_session_length |>\n",
    "              ggplot(aes(x = Age, y = mean_session_length)) +\n",
    "              geom_point(alpha = 0.4) + \n",
    "              labs(title = \"Average Session Length vs. Player Age\", x = \"Age (years)\", y = \"Average Session Length (hr) -  log10 scale\") +\n",
    "             # scale_x_log10(labels = label_comma()) +\n",
    "            scale_y_log10(labels = label_comma()) +\n",
    "            theme(text = element_text(size = 20))\n",
    "                         \n",
    "session_vs_play_time    "
   ]
  },
  {
   "cell_type": "markdown",
   "id": "19862e15-95b0-4ca2-ad34-afcdb7e35609",
   "metadata": {},
   "source": [
    "The reason I chose to plot age vs average session length is to visually explore how age affects the target variable, \n",
    "as to further inform myself how age would potentially play a role in my model."
   ]
  },
  {
   "cell_type": "markdown",
   "id": "9ea76a17-5bae-4921-b6fd-3039099d5cac",
   "metadata": {},
   "source": [
    "# (4) Methods and Plan\n",
    "* **Method:** Regression (predicting numerical mean session time)  \n",
    "  * As we are trying to predict new numerical values from existing data, classification would not be appropriate as that predicts categorical values  \n",
    "* **Assumptions:**  \n",
    "  * Predictors have a relationship with \"mean session time.\"  \n",
    "  * Relationships can be modelled linearly (after data wrangling if needed).  \n",
    "* **Limitations:**  \n",
    "  * Model may fail to learn relationships.  \n",
    "  * Some predictors might be irrelevant.  \n",
    "* **Model Selection:**  \n",
    "  * Start with linear regression (efficient with categorical predictors).  \n",
    "  * If needed, explore other regression methods (e.g., KNN) with appropriate categorical encoding (e.g., one-hot encoding).  \n",
    "  * Compare models using RMSPE (or RMSE).  \n",
    "* **Data Processing:**  \n",
    "  * Handle missing values.  \n",
    "  * Ensure correct data types.  \n",
    "  * Split data 80/20 (training/testing).  \n",
    "  * Split strata is the mean session length.  \n",
    "  * Use 10-fold cross-validation due to the small size of the dataset."
   ]
  },
  {
   "cell_type": "code",
   "execution_count": null,
   "id": "25224060-a244-4848-a182-5f9003581b55",
   "metadata": {},
   "outputs": [],
   "source": []
  }
 ],
 "metadata": {
  "kernelspec": {
   "display_name": "R",
   "language": "R",
   "name": "ir"
  },
  "language_info": {
   "codemirror_mode": "r",
   "file_extension": ".r",
   "mimetype": "text/x-r-source",
   "name": "R",
   "pygments_lexer": "r",
   "version": "4.3.3"
  }
 },
 "nbformat": 4,
 "nbformat_minor": 5
}
